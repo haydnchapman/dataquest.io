{
 "cells": [
  {
   "cell_type": "markdown",
   "metadata": {},
   "source": [
    "# dataquest.io - Python Programming\n",
    "## Guided project - explore US Births\n",
    "\n",
    "This notepad analyses the birth rates from the US between 1993 and 2014 using the CDC and SSA data sets that are available [here](https://github.com/fivethirtyeight/data/tree/master/births).\n",
    "\n",
    "The following functions are defined:\n",
    "* `read_csv(file_name)`\n",
    "* `calc_counts(data, column)`\n",
    "* `calc_max_dict_value(dictionary)`\n",
    "* `calc_min_dict_value(dictionary)`\n",
    "* `calc_counts_with_condition(data,condition_col, condition_val, group_by_col,value_col=4)`\n",
    "* `calc_diff_counts(data)`\n",
    "* `calc_diff_counts_with_condition(data,condition_col, condition_val, group_by_col,value_col=4)`\n",
    "* `create_date_key(data)`\n",
    "* `create_dictionary_with_date_key(data)`\n",
    "* `combine_dictionaries(dict_1, dict_2, col_to_merge)`\n"
   ]
  },
  {
   "cell_type": "code",
   "execution_count": 42,
   "metadata": {
    "collapsed": false
   },
   "outputs": [],
   "source": [
    "def read_csv(file_name):\n",
    "    file = open(file_name).read()\n",
    "    data = file.split(\"\\n\")\n",
    "    end_index = len(data)\n",
    "    string_list = data[1:end_index]\n",
    "    \n",
    "    final_list = []\n",
    "    \n",
    "    for row in string_list:\n",
    "        int_fields = []\n",
    "        string_fields = row.split(\",\")\n",
    "        \n",
    "        for field in string_fields:\n",
    "            field_value = int(field)\n",
    "            int_fields.append(field_value)\n",
    "            \n",
    "        final_list.append(int_fields)\n",
    "    \n",
    "    return final_list  "
   ]
  },
  {
   "cell_type": "code",
   "execution_count": 43,
   "metadata": {
    "collapsed": false
   },
   "outputs": [
    {
     "data": {
      "text/plain": [
       "[[1994, 1, 1, 6, 8096],\n",
       " [1994, 1, 2, 7, 7772],\n",
       " [1994, 1, 3, 1, 10142],\n",
       " [1994, 1, 4, 2, 11248],\n",
       " [1994, 1, 5, 3, 11053],\n",
       " [1994, 1, 6, 4, 11406],\n",
       " [1994, 1, 7, 5, 11251],\n",
       " [1994, 1, 8, 6, 8653],\n",
       " [1994, 1, 9, 7, 7910],\n",
       " [1994, 1, 10, 1, 10498]]"
      ]
     },
     "execution_count": 43,
     "metadata": {},
     "output_type": "execute_result"
    }
   ],
   "source": [
    "cdc_list = read_csv(\"US_births_1994-2003_CDC_NCHS.csv\")\n",
    "cdc_list[0:10]"
   ]
  },
  {
   "cell_type": "code",
   "execution_count": 44,
   "metadata": {
    "collapsed": false
   },
   "outputs": [],
   "source": [
    "def calc_counts(data, column):\n",
    "    final_list = {}\n",
    "    \n",
    "    for data_row in data:\n",
    "        column_value = data_row[column]\n",
    "        births = data_row[4]\n",
    "        \n",
    "        if column_value in final_list:\n",
    "            final_list[column_value] = final_list[column_value] + births\n",
    "        else:\n",
    "            final_list[column_value] = births\n",
    "        \n",
    "    return final_list"
   ]
  },
  {
   "cell_type": "code",
   "execution_count": 45,
   "metadata": {
    "collapsed": false
   },
   "outputs": [],
   "source": [
    "cdc_year_births = calc_counts(cdc_list, 0)\n",
    "cdc_month_births = calc_counts(cdc_list, 1)\n",
    "cdc_dom_births = calc_counts(cdc_list, 2)\n",
    "cdc_dow_births = calc_counts(cdc_list, 3)"
   ]
  },
  {
   "cell_type": "code",
   "execution_count": 46,
   "metadata": {
    "collapsed": false
   },
   "outputs": [],
   "source": [
    "def calc_max_dict_value(dictionary):\n",
    "      return max(dictionary.values())\n",
    "    \n",
    "def calc_min_dict_value(dictionary):\n",
    "      return min(dictionary.values())"
   ]
  },
  {
   "cell_type": "markdown",
   "metadata": {},
   "source": [
    "### calc_counts_with_condition\n",
    "\n",
    "Returns a dictionary from a list of lists that contains the summed values of elements in rows that meet a specified condition.\n",
    "* `condition_col` - the column to check the value of as part of the condition\n",
    "* `condition_val` - the value the condition column value needs to equal to be included in the returned dictionary\n",
    "* `group_by_col` - the column to use as the 'key' for each group of summed values (i.e. 0 = year, 1 = month)\n",
    "* `value_col` - the column containing the value to be used when summing the rows that meet the condition (default = births [4])\n"
   ]
  },
  {
   "cell_type": "code",
   "execution_count": 47,
   "metadata": {
    "collapsed": false
   },
   "outputs": [],
   "source": [
    "def calc_counts_with_condition(data,condition_col, condition_val, group_by_col,value_col=4):\n",
    "    grouped_list = {}\n",
    "    \n",
    "    for row in data:\n",
    "        key = row[group_by_col]\n",
    "        value = row[value_col]\n",
    "        condition = row[condition_col]\n",
    "        \n",
    "        if condition == condition_val:\n",
    "            if key in grouped_list:\n",
    "                grouped_list[key] = grouped_list[key] + value\n",
    "            else:\n",
    "                grouped_list[key] = value\n",
    "            \n",
    "    return grouped_list"
   ]
  },
  {
   "cell_type": "markdown",
   "metadata": {},
   "source": [
    "## calc_diff_counts\n",
    "Calculates the difference between values within a dictionary from one element to the next. Elements are ordered by the dictionary key "
   ]
  },
  {
   "cell_type": "code",
   "execution_count": 48,
   "metadata": {
    "collapsed": true
   },
   "outputs": [],
   "source": [
    "def calc_diff_counts(data):\n",
    "    diff_list = {}\n",
    "    \n",
    "    sorted_list = sorted(data)\n",
    "    prev_value = 0\n",
    "    \n",
    "    for row in sorted_list:\n",
    "        diff_list[row] = data[row] - prev_value\n",
    "        prev_value = data[row]\n",
    "        \n",
    "    return diff_list\n",
    "            "
   ]
  },
  {
   "cell_type": "markdown",
   "metadata": {},
   "source": [
    "## calc_diff_counts_with_condition\n",
    "Combines the retrieval of values that meet a given condition using the `calc_counts_with_condition` function, with the `calc_diff_counts` function"
   ]
  },
  {
   "cell_type": "code",
   "execution_count": 49,
   "metadata": {
    "collapsed": false
   },
   "outputs": [],
   "source": [
    "def calc_diff_counts_with_condition(data,condition_col, condition_val, group_by_col,value_col=4):\n",
    "    grouped_list = calc_counts_for_condition(cdc_list,condition_col,condition_val,group_by_col,value_col)\n",
    "    diff_list = calc_diff_counts(grouped_list)\n",
    "    \n",
    "    return diff_list"
   ]
  },
  {
   "cell_type": "markdown",
   "metadata": {},
   "source": [
    "Extracts the difference in all births on Saturdays (specified via `condition_column` & `condition_value`) from one year (specified by `group_by_column`) to the next"
   ]
  },
  {
   "cell_type": "code",
   "execution_count": 50,
   "metadata": {
    "collapsed": false,
    "scrolled": true
   },
   "outputs": [
    {
     "ename": "NameError",
     "evalue": "name 'combined_list' is not defined",
     "output_type": "error",
     "traceback": [
      "\u001b[1;31m\u001b[0m",
      "\u001b[1;31mNameError\u001b[0mTraceback (most recent call last)",
      "\u001b[1;32m<ipython-input-50-57d0037c5738>\u001b[0m in \u001b[0;36m<module>\u001b[1;34m()\u001b[0m\n\u001b[0;32m      3\u001b[0m \u001b[0mgroup_by_column\u001b[0m \u001b[1;33m=\u001b[0m \u001b[1;36m0\u001b[0m \u001b[1;31m# year\u001b[0m\u001b[1;33m\u001b[0m\u001b[0m\n\u001b[0;32m      4\u001b[0m \u001b[1;33m\u001b[0m\u001b[0m\n\u001b[1;32m----> 5\u001b[1;33m \u001b[0mdiff_list\u001b[0m \u001b[1;33m=\u001b[0m \u001b[0mcalc_diff_counts_with_condition\u001b[0m\u001b[1;33m(\u001b[0m\u001b[0mcombined_list\u001b[0m\u001b[1;33m,\u001b[0m\u001b[0mcondition_column\u001b[0m\u001b[1;33m,\u001b[0m\u001b[0mcondition_value\u001b[0m\u001b[1;33m,\u001b[0m\u001b[0mgroup_by_column\u001b[0m\u001b[1;33m)\u001b[0m\u001b[1;33m\u001b[0m\u001b[0m\n\u001b[0m\u001b[0;32m      6\u001b[0m \u001b[0mdiff_list\u001b[0m\u001b[1;33m\u001b[0m\u001b[0m\n",
      "\u001b[1;31mNameError\u001b[0m: name 'combined_list' is not defined"
     ]
    }
   ],
   "source": [
    "condition_column = 3 # day of week\n",
    "condition_value = 6 # saturday\n",
    "group_by_column = 0 # year\n",
    "\n",
    "diff_list = calc_diff_counts_with_condition(combined_list,condition_column,condition_value,group_by_column)\n",
    "diff_list"
   ]
  },
  {
   "cell_type": "markdown",
   "metadata": {},
   "source": [
    "# Merge two datasets with same structure\n",
    "\n",
    "The following cells merge to data sets (SSA (2000 to 2014) and CDC (1994 - 2003)) into  a single list.\n",
    "\n",
    "Where the two data sets overlap on a date, the mean of the values within both data sets is uses in place of the original values (decimal places removed by converting float value to int)\n",
    "\n",
    "Each data set is converted to a dictionary with the key being composed of the unique date for each data item, and the value being the data item, alowing matching rows to be found using a straightforward check that a key in one list exists in the other, i.e.\n",
    "\n",
    "[1994, 1, 7, 5, 11251] becomes { **'1994.1.7'**: [1994, 1, 7, 5, 11251]}"
   ]
  },
  {
   "cell_type": "code",
   "execution_count": null,
   "metadata": {
    "collapsed": true
   },
   "outputs": [],
   "source": [
    "ssa_list = read_csv(\"US_births_2000-2014_SSA.csv\")"
   ]
  },
  {
   "cell_type": "code",
   "execution_count": null,
   "metadata": {
    "collapsed": false
   },
   "outputs": [],
   "source": [
    "def create_date_key(data):\n",
    "    return str(data[0]) + '.' + str(data[1]) + '.' + str(data[2])\n",
    "\n",
    "def create_dictionary_with_date_key(data):\n",
    "    dictionary = {}\n",
    "    for row in data:\n",
    "        key = create_date_key(row)\n",
    "        dictionary[key] = row\n",
    "    return dictionary\n",
    "\n",
    "date_keyed_ssa_dictionary = create_dictionary_with_date_key(ssa_list)\n",
    "date_keyed_cdc_dictionary = create_dictionary_with_date_key(cdc_list)\n"
   ]
  },
  {
   "cell_type": "code",
   "execution_count": null,
   "metadata": {
    "collapsed": false
   },
   "outputs": [],
   "source": [
    "def merge_dictionaries(dict_1, dict_2, col_to_merge=4):\n",
    "       \n",
    "    merged_dict = dict_1\n",
    "    \n",
    "    for row in dict_2:\n",
    "        if row in dict_1:\n",
    "            value_1 = dict_1[row][col_to_merge]\n",
    "            value_2 = dict_2[row][col_to_merge]\n",
    "            mean = int((value_1 + value_2) / 2)\n",
    "            \n",
    "            merged_dict[row][col_to_merge] = mean\n",
    "        else:\n",
    "            merged_dict[row] = dict_2[row]\n",
    "           \n",
    "    return merged_dict\n"
   ]
  },
  {
   "cell_type": "code",
   "execution_count": 51,
   "metadata": {
    "collapsed": false,
    "scrolled": true
   },
   "outputs": [
    {
     "data": {
      "text/plain": [
       "[[1997, 7, 24, 4, 11988],\n",
       " [2005, 9, 3, 6, 9128],\n",
       " [2006, 4, 8, 6, 8333],\n",
       " [2000, 8, 13, 7, 8312],\n",
       " [1996, 7, 16, 2, 12619],\n",
       " [2012, 9, 22, 6, 8899],\n",
       " [2009, 10, 9, 5, 12706],\n",
       " [1996, 5, 7, 2, 11567],\n",
       " [2000, 10, 31, 2, 11370],\n",
       " [2012, 3, 6, 2, 12076]]"
      ]
     },
     "execution_count": 51,
     "metadata": {},
     "output_type": "execute_result"
    }
   ],
   "source": [
    "merged_dictionaries = merge_dictionaries(date_keyed_cdc_dictionary,date_keyed_ssa_dictionary)\n",
    "merged_list = [ v for v in merged_dictionaries.values()]\n",
    "\n",
    "merged_list[0:10]"
   ]
  },
  {
   "cell_type": "code",
   "execution_count": null,
   "metadata": {
    "collapsed": true
   },
   "outputs": [],
   "source": []
  },
  {
   "cell_type": "code",
   "execution_count": null,
   "metadata": {
    "collapsed": true
   },
   "outputs": [],
   "source": []
  }
 ],
 "metadata": {
  "anaconda-cloud": {},
  "kernelspec": {
   "display_name": "Python 3",
   "language": "python",
   "name": "python3"
  },
  "language_info": {
   "codemirror_mode": {
    "name": "ipython",
    "version": 3
   },
   "file_extension": ".py",
   "mimetype": "text/x-python",
   "name": "python",
   "nbconvert_exporter": "python",
   "pygments_lexer": "ipython3",
   "version": "3.4.3"
  }
 },
 "nbformat": 4,
 "nbformat_minor": 1
}
